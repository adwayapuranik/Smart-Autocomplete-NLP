{
 "cells": [
  {
   "cell_type": "code",
   "execution_count": 1,
   "id": "22cab077-0f11-4607-9a13-aace1590904e",
   "metadata": {},
   "outputs": [],
   "source": [
    "import pandas as pd\n",
    "import numpy as np\n",
    "from sklearn.feature_extraction.text import TfidfVectorizer\n",
    "from sklearn.metrics.pairwise import cosine_similarity\n",
    "import re\n",
    "import json"
   ]
  },
  {
   "cell_type": "code",
   "execution_count": 2,
   "id": "fe40c346-b27b-48bd-8b55-5e7ddc5a6db9",
   "metadata": {},
   "outputs": [],
   "source": [
    "try:\n",
    "    with open('sample_conversations.json', 'r', encoding='utf-8') as file:\n",
    "        conversations = json.load(file)\n",
    "except UnicodeDecodeError:\n",
    "    with open('sample_conversations.json', 'r', encoding='latin-1') as file:\n",
    "        conversations = json.load(file)"
   ]
  },
  {
   "cell_type": "code",
   "execution_count": 5,
   "id": "97334f39-c2f7-4e75-a23e-d27b00cf52b1",
   "metadata": {},
   "outputs": [],
   "source": [
    "# Clean and preprocess the data\n",
    "def clean_text(text):\n",
    "    # Remove punctuation except question marks\n",
    "    text = re.sub(r'[^\\w\\s?]', '', text)\n",
    "    # Convert to lowercase, but keep the first letter capitalized \n",
    "    text = text.lower().capitalize()\n",
    "    return text"
   ]
  },
  {
   "cell_type": "code",
   "execution_count": 4,
   "id": "4670a466-26fb-4715-94b3-cd231e821579",
   "metadata": {},
   "outputs": [],
   "source": [
    "# Extract all messages\n",
    "all_messages = []\n",
    "for issue in conversations['Issues']:\n",
    "    for message in issue['Messages']:\n",
    "        if not message['IsFromCustomer']:  # Only consider representative messages\n",
    "            all_messages.append(message['Text'])"
   ]
  },
  {
   "cell_type": "code",
   "execution_count": 6,
   "id": "964bbbf7-6218-4b92-8325-743c359f84b5",
   "metadata": {},
   "outputs": [],
   "source": [
    "cleaned_conversations = [clean_text(msg) for msg in all_messages]"
   ]
  },
  {
   "cell_type": "code",
   "execution_count": 7,
   "id": "09c65685-0531-42ec-9f84-9e18530c8f25",
   "metadata": {},
   "outputs": [],
   "source": [
    "# Create a DataFrame\n",
    "df = pd.DataFrame({'conversation': cleaned_conversations})"
   ]
  },
  {
   "cell_type": "code",
   "execution_count": 8,
   "id": "360f98fa-f6f8-4e77-af23-1b6063ab6aff",
   "metadata": {},
   "outputs": [],
   "source": [
    "# Count the frequency of each sentence\n",
    "sentence_counts = df['conversation'].value_counts()"
   ]
  },
  {
   "cell_type": "code",
   "execution_count": 9,
   "id": "20b490b8-6846-4bad-a44b-197c8defc3e3",
   "metadata": {},
   "outputs": [],
   "source": [
    "# Create TF-IDF vectorizer\n",
    "vectorizer = TfidfVectorizer()\n",
    "tfidf_matrix = vectorizer.fit_transform(df['conversation'])"
   ]
  },
  {
   "cell_type": "code",
   "execution_count": 10,
   "id": "8e364281-9f42-41c9-beea-d20082cad2c5",
   "metadata": {},
   "outputs": [],
   "source": [
    "def get_autocomplete(input_text, top_n=3):\n",
    "    input_text = clean_text(input_text)\n",
    "    input_vector = vectorizer.transform([input_text])\n",
    "    \n",
    "    # Calculate cosine similarity\n",
    "    similarities = cosine_similarity(input_vector, tfidf_matrix).flatten()\n",
    "    \n",
    "    # Get sentences that start with the input text\n",
    "    starts_with = df['conversation'][df['conversation'].str.startswith(input_text)]\n",
    "    \n",
    "    # If we have sentences that start with the input, prioritize them\n",
    "    if not starts_with.empty:\n",
    "        suggestions = starts_with.tolist()[:top_n]\n",
    "        remaining = top_n - len(suggestions)\n",
    "        if remaining > 0:\n",
    "            # Add other similar sentences if needed\n",
    "            other_suggestions = df['conversation'][~df['conversation'].str.startswith(input_text)].iloc[similarities.argsort()[-remaining:][::-1]].tolist()\n",
    "            suggestions.extend(other_suggestions)\n",
    "    else:\n",
    "        # If no sentences start with the input, use the most similar ones\n",
    "        suggestions = df['conversation'].iloc[similarities.argsort()[-top_n:][::-1]].tolist()\n",
    "    \n",
    "    # Remove duplicates and capitalize first letter\n",
    "    suggestions = list(dict.fromkeys(suggestions))\n",
    "    suggestions = [s.capitalize() for s in suggestions]\n",
    "    \n",
    "    return suggestions[:top_n]\n"
   ]
  },
  {
   "cell_type": "code",
   "execution_count": null,
   "id": "8c3d0dff-ab5c-4b41-8adc-e997328cf84d",
   "metadata": {},
   "outputs": [
    {
     "name": "stdout",
     "output_type": "stream",
     "text": [
      "Welcome to the Smart Autocomplete-NLP for Customer Service Interactions!\n",
      "Type the beginning of a sentence, and the system will suggest completions.\n",
      "Type 'exit' to quit the program.\n"
     ]
    },
    {
     "name": "stdin",
     "output_type": "stream",
     "text": [
      "\n",
      "Representative's input:  what is\n"
     ]
    },
    {
     "name": "stdout",
     "output_type": "stream",
     "text": [
      "\n",
      "For the input \"what is\":\n",
      "Autocomplete suggestions:\n",
      "▪ \"What is your apartment number?\"\n",
      "▪ \"What is the cell phone number on the contract?\"\n",
      "▪ \"What is the cell number?\"\n"
     ]
    }
   ],
   "source": [
    "print(\"Welcome to the Smart Autocomplete-NLP for Customer Service Interactions!\")\n",
    "print(\"Type the beginning of a sentence, and the system will suggest completions.\")\n",
    "print(\"Type 'exit' to quit the program.\")\n",
    "\n",
    "while True:\n",
    "    user_input = input(\"\\nRepresentative's input: \")\n",
    "    \n",
    "    if user_input.lower() == 'exit':\n",
    "        print(\"Thank you for using the Smart Autocomplete-NLP system. Goodbye!\")\n",
    "        break\n",
    "    \n",
    "    suggestions = get_autocomplete(user_input)\n",
    "    \n",
    "    print(f\"\\nFor the input \\\"{user_input}\\\":\")\n",
    "    print(\"Autocomplete suggestions:\")\n",
    "    for i, suggestion in enumerate(suggestions, 1):\n",
    "        print(f\"▪ \\\"{suggestion}\\\"\")"
   ]
  }
 ],
 "metadata": {
  "kernelspec": {
   "display_name": "Python 3 (ipykernel)",
   "language": "python",
   "name": "python3"
  },
  "language_info": {
   "codemirror_mode": {
    "name": "ipython",
    "version": 3
   },
   "file_extension": ".py",
   "mimetype": "text/x-python",
   "name": "python",
   "nbconvert_exporter": "python",
   "pygments_lexer": "ipython3",
   "version": "3.10.11"
  }
 },
 "nbformat": 4,
 "nbformat_minor": 5
}
